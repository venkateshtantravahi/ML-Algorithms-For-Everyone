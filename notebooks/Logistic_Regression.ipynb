{
 "cells": [
  {
   "cell_type": "markdown",
   "id": "1e20d4af",
   "metadata": {},
   "source": [
    "this is markdown."
   ]
  },
  {
   "cell_type": "markdown",
   "id": "fe87f886",
   "metadata": {},
   "source": []
  }
 ],
 "metadata": {
  "language_info": {
   "name": "python"
  }
 },
 "nbformat": 4,
 "nbformat_minor": 5
}
