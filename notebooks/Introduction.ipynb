{
 "cells": [
  {
   "cell_type": "markdown",
   "id": "05d67057",
   "metadata": {},
   "source": [
    "# Introduction to Machine Learning"
   ]
  },
  {
   "cell_type": "markdown",
   "id": "dd667b56",
   "metadata": {},
   "source": [
    "![Machine Learning](../diagrams/Machine%20learning.webp)"
   ]
  },
  {
   "cell_type": "markdown",
   "id": "8db45543",
   "metadata": {},
   "source": [
    "## What is Machine Learning?\n",
    "\n",
    "Imagine you're trying to predict the weather tomorrow. You might say,  \n",
    "*“Hmm, if it’s cloudy and humid today, there’s a high chance it’ll rain tomorrow.”*  \n",
    "That’s **your brain** looking at patterns in past experiences and making a guess.  \n",
    "\n",
    "Now, think of a computer doing the same thing.  \n",
    "Instead of telling it every single rule like:\n",
    "- “If humidity > 70% and temperature < 20°C, then predict rain,”  \n",
    "we **let the computer figure out the rules itself** from data!  \n",
    "\n",
    "That’s the heart of **Machine Learning (ML)**.  \n",
    "ML is a way for computers to learn patterns from data and make predictions or decisions,  \n",
    "**without being explicitly programmed** for every scenario."
   ]
  },
  {
   "cell_type": "markdown",
   "id": "98fa5fa3",
   "metadata": {},
   "source": [
    "## The Roots of ML: Math, Stats, and Human Curiosity\n",
    "\n",
    "ML didn’t just appear out of nowhere. It’s the result of:\n",
    "- **Mathematics** (algebra, calculus, optimization)\n",
    "- **Statistics** (probability, distributions, inference)\n",
    "- And a bit of human curiosity:  \n",
    "  *“What if a machine could learn like we do?”*\n",
    "\n",
    "Early ideas came from:\n",
    "- **Linear models** in statistics (like Linear Regression in the 1800s)\n",
    "- **Decision theory** (how to make choices under uncertainty)\n",
    "- And the realization that **computers could process huge amounts of data** much faster than humans.\n",
    "\n",
    "ML grew as **data became abundant** and **computers became powerful**.  \n",
    "It became a way to let machines do what humans can’t—analyze millions of data points and find patterns we might miss."
   ]
  },
  {
   "cell_type": "markdown",
   "id": "3eb30489",
   "metadata": {},
   "source": [
    "## The ML Mindset: From Rules to Learning\n",
    "\n",
    "Let’s compare traditional programming with ML:\n",
    "\n",
    "| Traditional Programming     | Machine Learning                      |\n",
    "|----------------------------|---------------------------------------|\n",
    "| Humans write rules (if-else) | Data teaches the rules                |\n",
    "| Code runs on fixed logic    | Code adapts based on data             |\n",
    "| Example: Spam filter by keywords | Spam filter learns from examples     |\n",
    "\n",
    "With ML, we **train a model** by showing it data and letting it adjust itself to get better.  \n",
    "Think of it as **teaching by example**."
   ]
  },
  {
   "cell_type": "markdown",
   "id": "c07899ab",
   "metadata": {},
   "source": [
    "## The Three Types of ML (Bird's Eye View)\n",
    "\n",
    "![Types of ML Algorithms](../diagrams/SupervisedVsUnsupervisedVsReinforcement.png)\n",
    "\n",
    "1️ **Supervised Learning**  \n",
    "   - We give the model **labeled data** (inputs + correct outputs).  \n",
    "   - The goal: Learn a mapping from input → output.  \n",
    "   - Example: Predicting house prices from size, location, etc.\n",
    "\n",
    "2️ **Unsupervised Learning**  \n",
    "   - No labels, just raw data. The model finds patterns on its own.  \n",
    "   - Example: Customer segmentation (grouping customers by spending habits).\n",
    "\n",
    "3️ **Reinforcement Learning**  \n",
    "   - The model learns by **trial and error**—it takes actions, gets feedback, and improves.  \n",
    "   - Example: Game-playing AIs like AlphaGo."
   ]
  },
  {
   "cell_type": "markdown",
   "id": "15b2e730",
   "metadata": {},
   "source": [
    "## The ML Pipeline (How ML Projects Work)\n",
    "\n",
    "![MLPipeline](../diagrams/MLPipelineSketch.jpg)\n",
    "\n",
    "Every ML project follows a general flow:\n",
    "\n",
    "1️ **Data Collection** → Gather data relevant to the problem.  \n",
    "2️ **Data Cleaning** → Handle missing values, errors, etc.  \n",
    "3️ **Feature Engineering** → Pick the right variables to feed into the model.  \n",
    "4️ **Modeling** → Choose and train an algorithm.  \n",
    "5️ **Evaluation** → Check how well the model works.  \n",
    "6️ **Deployment** → Use the model in the real world.\n",
    "\n",
    "It’s not a one-time thing—ML is an **iterative process**. We try, learn, and improve.\n"
   ]
  },
  {
   "cell_type": "markdown",
   "id": "ddad9616",
   "metadata": {},
   "source": [
    "## Why Learn ML?\n",
    "\n",
    "ML is everywhere. It powers:\n",
    "- Netflix recommendations\n",
    "- Fraud detection in banks\n",
    "- Self-driving cars\n",
    "- Chatbots and virtual assistants\n",
    "- Medical diagnosis tools\n",
    "- Stock market predictions\n",
    "\n",
    "By learning ML, you unlock the ability to **solve problems with data**, automate tasks, and build intelligent systems that adapt and improve.\n"
   ]
  },
  {
   "cell_type": "markdown",
   "id": "8995dc58",
   "metadata": {},
   "source": [
    "## What We'll Learn in This Project\n",
    "\n",
    "This project is your guide to **core ML algorithms**—the building blocks of most machine learning systems.  \n",
    "For each algorithm, we’ll explore:\n",
    "- **What it is** (the idea)\n",
    "- **How it works** (the math)\n",
    "- **Why it’s useful** (real-world use cases)\n",
    "- And **how to code it from scratch** using Python \n",
    "\n",
    "We’ll also build visualizations and explain key concepts so that ML feels **intuitive**, not just theoretical."
   ]
  },
  {
   "cell_type": "markdown",
   "id": "982231d1",
   "metadata": {},
   "source": [
    "## Topics Covered in This Series\n",
    "\n",
    "Here’s the full list of topics we’ll cover. Click on any link to go directly to that notebook:\n",
    "\n",
    "- [Linear Regression](./Linear_Regression.ipynb)\n",
    "- [Logistic Regression](./Logistic_Regression.ipynb)\n",
    "- [K-Nearest Neighbors (KNN)](./KNN.ipynb)\n",
    "- [Support Vector Machines (SVM)](./SVM.ipynb)\n",
    "- [Naive Bayes](./Naive_Bayes.ipynb)\n",
    "- [Decision Trees](./Decision_Trees.ipynb)\n",
    "- [Ensemble Methods (Bagging, Random Forest)](./Ensemble_Methods.ipynb)\n",
    "- [Boosting Algorithms](./Boosting.ipynb)\n",
    "- [Neural Networks (Basics)](./Neural_Networks.ipynb)\n",
    "- [Clustering (K-Means)](./KMeans.ipynb)\n",
    "- [Dimensionality Reduction (PCA)](./PCA.ipynb)\n",
    "- [A/B Testing](./AB_Testing.ipynb)\n"
   ]
  },
  {
   "cell_type": "markdown",
   "id": "c613aa0e",
   "metadata": {},
   "source": []
  }
 ],
 "metadata": {
  "language_info": {
   "name": "python"
  }
 },
 "nbformat": 4,
 "nbformat_minor": 5
}
